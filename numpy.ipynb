{
 "cells": [
  {
   "cell_type": "markdown",
   "id": "d14f6aae-5cfd-49d3-974b-5ae56c51f15a",
   "metadata": {},
   "source": [
    "# Numpy  "
   ]
  },
  {
   "cell_type": "code",
   "execution_count": 2,
   "id": "7fc5f82e-6359-4ed6-bbfd-ea01f862e0bc",
   "metadata": {},
   "outputs": [],
   "source": [
    "import numpy as np # 컨트롤 시프트 마이너스로 구분 "
   ]
  },
  {
   "cell_type": "code",
   "execution_count": 13,
   "id": "97176505-f9d7-4a7a-9012-c2a4a3eed8c9",
   "metadata": {},
   "outputs": [
    {
     "data": {
      "text/plain": [
       "array([0, 1, 2, 3])"
      ]
     },
     "execution_count": 13,
     "metadata": {},
     "output_type": "execute_result"
    }
   ],
   "source": [
    "a = np.array([0,1,2,3])  # 자동으로 실수형으로 바뀌는 구나 # numpy 기본은 배열 \n",
    "a"
   ]
  },
  {
   "cell_type": "code",
   "execution_count": 14,
   "id": "bdbd37ac-a327-4a00-8767-1fb4dde9762c",
   "metadata": {},
   "outputs": [
    {
     "data": {
      "text/plain": [
       "array([0, 1, 2, 3])"
      ]
     },
     "execution_count": 14,
     "metadata": {},
     "output_type": "execute_result"
    }
   ],
   "source": [
    "np.array(a) # 이렇게 따로 넣어도 되더라 , "
   ]
  },
  {
   "cell_type": "code",
   "execution_count": 17,
   "id": "6d269671-b03f-4c1f-8a9d-4b8387d22ec9",
   "metadata": {},
   "outputs": [
    {
     "data": {
      "text/plain": [
       "(4,)"
      ]
     },
     "execution_count": 17,
     "metadata": {},
     "output_type": "execute_result"
    }
   ],
   "source": [
    "a.shape "
   ]
  },
  {
   "cell_type": "code",
   "execution_count": null,
   "id": "e8b45315-8db7-49bf-a371-7cad73733b24",
   "metadata": {},
   "outputs": [],
   "source": [
    "# 8칸 바이트  0이나 1 이진수 \n",
    "# 64비트 크고 좋다 이렇기 보다는 공간 낭비 , "
   ]
  },
  {
   "cell_type": "code",
   "execution_count": null,
   "id": "5708f696-fe6e-4942-a6db-74f9de43dc6f",
   "metadata": {},
   "outputs": [],
   "source": [
    "# complex 복소수 bool  불형 , float 실수 ,  다양한 데이터 타입 들어간다 int 정수 float 실수 , complex 복소수 , 글자 uint "
   ]
  },
  {
   "cell_type": "code",
   "execution_count": 7,
   "id": "6dbd6c64-d14e-4a4e-90d4-2431a921e5cc",
   "metadata": {},
   "outputs": [],
   "source": [
    "arr1 = np.array([[1,2],[3,4]])"
   ]
  },
  {
   "cell_type": "code",
   "execution_count": 8,
   "id": "167b24b5-feee-478a-9a97-eca377386d56",
   "metadata": {},
   "outputs": [],
   "source": [
    "arr2 = np.array([[5,6],[7,8]])"
   ]
  },
  {
   "cell_type": "code",
   "execution_count": null,
   "id": "712aea3d-5727-47b6-b66a-18f2f4cd73e3",
   "metadata": {},
   "outputs": [],
   "source": [
    "2x2x2 12 # 3차원 만들어 보자 .\n",
    "    34\n",
    "    56\n",
    "    78"
   ]
  },
  {
   "cell_type": "code",
   "execution_count": 10,
   "id": "3122532b-7277-4255-8716-e1662abb8b4c",
   "metadata": {},
   "outputs": [],
   "source": [
    "arr3 = np.array([ [  [ 1,2 ],[ 3 , 4] ] , [[5,6],[7,8]] ])"
   ]
  },
  {
   "cell_type": "code",
   "execution_count": 32,
   "id": "bcf80b02-b835-4ad4-b78b-024e4ca83003",
   "metadata": {},
   "outputs": [
    {
     "name": "stdout",
     "output_type": "stream",
     "text": [
      "[[[1 2]\n",
      "  [3 4]]\n",
      "\n",
      " [[5 6]\n",
      "  [7 8]]]\n"
     ]
    }
   ],
   "source": [
    "print(arr3) # 2차원 "
   ]
  },
  {
   "cell_type": "code",
   "execution_count": 33,
   "id": "c6d71e9e-3d4a-4a7f-b8c6-5d1c6ba01852",
   "metadata": {},
   "outputs": [
    {
     "data": {
      "text/plain": [
       "array([[[1, 2],\n",
       "        [3, 4]],\n",
       "\n",
       "       [[5, 6],\n",
       "        [7, 8]]])"
      ]
     },
     "execution_count": 33,
     "metadata": {},
     "output_type": "execute_result"
    }
   ],
   "source": [
    "arr3"
   ]
  },
  {
   "cell_type": "code",
   "execution_count": null,
   "id": "f2720a98-9200-4e05-a0f8-6a3f4e7a9b7e",
   "metadata": {},
   "outputs": [],
   "source": [
    "# 이런 논리로 차원이 추가됨 . "
   ]
  },
  {
   "cell_type": "code",
   "execution_count": 39,
   "id": "0852aa8b-ed2b-4750-94d1-ce32c3506606",
   "metadata": {},
   "outputs": [
    {
     "data": {
      "text/plain": [
       "array([[1, 2, 3, 4],\n",
       "       [5, 6, 7, 8]])"
      ]
     },
     "execution_count": 39,
     "metadata": {},
     "output_type": "execute_result"
    }
   ],
   "source": [
    "a = np.arange(1,9)\n",
    "a.reshape(2,4)"
   ]
  },
  {
   "cell_type": "code",
   "execution_count": null,
   "id": "987a7916-1762-416c-956f-d329c85f834b",
   "metadata": {},
   "outputs": [],
   "source": [
    "# name 은 오브젝트를 가정해 그래서 '' 필요 "
   ]
  },
  {
   "cell_type": "code",
   "execution_count": 37,
   "id": "82c16e7d-5195-4670-9e3d-cbfa74c71c86",
   "metadata": {},
   "outputs": [
    {
     "data": {
      "text/plain": [
       "array([0, 1, 2, 3])"
      ]
     },
     "execution_count": 37,
     "metadata": {},
     "output_type": "execute_result"
    }
   ],
   "source": [
    "np.arange(4)  # 출력되는 결과물이 이미 배열을 출력해주는 함수 형태를 잘 잡아주는 것이 중요 "
   ]
  },
  {
   "cell_type": "code",
   "execution_count": 36,
   "id": "c2581077-b5fa-443e-9a24-e16d5397d881",
   "metadata": {},
   "outputs": [
    {
     "data": {
      "text/plain": [
       "[0, 1, 2]"
      ]
     },
     "execution_count": 36,
     "metadata": {},
     "output_type": "execute_result"
    }
   ],
   "source": [
    "list(range(3))"
   ]
  },
  {
   "cell_type": "code",
   "execution_count": 42,
   "id": "eb94be58-8a11-43dd-aeba-9add9c62aff9",
   "metadata": {},
   "outputs": [
    {
     "data": {
      "text/plain": [
       "array([[[1, 2],\n",
       "        [3, 4]],\n",
       "\n",
       "       [[5, 6],\n",
       "        [7, 8]]])"
      ]
     },
     "execution_count": 42,
     "metadata": {},
     "output_type": "execute_result"
    }
   ],
   "source": [
    "a.reshape(2,2,2) # 모양을 바꾸어 준다 "
   ]
  },
  {
   "cell_type": "code",
   "execution_count": 49,
   "id": "8ba8f47e-2176-4b83-a26d-4604685dfd52",
   "metadata": {},
   "outputs": [
    {
     "data": {
      "text/plain": [
       "array([[10, 11, 12, 13],\n",
       "       [14, 15, 16, 17],\n",
       "       [18, 19, 20, 21]])"
      ]
     },
     "execution_count": 49,
     "metadata": {},
     "output_type": "execute_result"
    }
   ],
   "source": [
    "a= np.arange(10,22)\n",
    "a.shape\n",
    "a.reshape(3,4)"
   ]
  },
  {
   "cell_type": "code",
   "execution_count": 50,
   "id": "ffda984a-df62-4d29-89f4-325bfce1c480",
   "metadata": {},
   "outputs": [],
   "source": [
    "a= np.arange(10,22).reshape(3,4)"
   ]
  },
  {
   "cell_type": "code",
   "execution_count": 51,
   "id": "601b1c36-f39c-4054-8134-8adc702cfc25",
   "metadata": {},
   "outputs": [],
   "source": [
    "a= np.arange(6,dtype= np.float32).reshape(2,3)"
   ]
  },
  {
   "cell_type": "code",
   "execution_count": 52,
   "id": "2e9630fa-d2ed-4840-bd20-15768b7240fd",
   "metadata": {},
   "outputs": [],
   "source": [
    "a= np.arange(8,dtype= np.float32).reshape(2,4)"
   ]
  },
  {
   "cell_type": "code",
   "execution_count": 55,
   "id": "6f55a06a-e722-496f-9056-d2ce24901c5b",
   "metadata": {},
   "outputs": [
    {
     "data": {
      "text/plain": [
       "array([[[ 0,  1],\n",
       "        [ 2,  3],\n",
       "        [ 4,  5],\n",
       "        [ 6,  7]],\n",
       "\n",
       "       [[ 8,  9],\n",
       "        [10, 11],\n",
       "        [12, 13],\n",
       "        [14, 15]],\n",
       "\n",
       "       [[16, 17],\n",
       "        [18, 19],\n",
       "        [20, 21],\n",
       "        [22, 23]]])"
      ]
     },
     "execution_count": 55,
     "metadata": {},
     "output_type": "execute_result"
    }
   ],
   "source": [
    "a= np.arange(24).reshape(3,4,2)\n",
    "a 3은 구분 되는 것들 , 큰 블럭 , 2는 열 4는 행  / 구분 행 열 "
   ]
  },
  {
   "cell_type": "code",
   "execution_count": 56,
   "id": "a4eb5aee-81b7-429c-ba9b-c74bc0f80931",
   "metadata": {},
   "outputs": [
    {
     "data": {
      "text/plain": [
       "array([[[ 0,  1,  2],\n",
       "        [ 3,  4,  5]],\n",
       "\n",
       "       [[ 6,  7,  8],\n",
       "        [ 9, 10, 11]],\n",
       "\n",
       "       [[12, 13, 14],\n",
       "        [15, 16, 17]],\n",
       "\n",
       "       [[18, 19, 20],\n",
       "        [21, 22, 23]]])"
      ]
     },
     "execution_count": 56,
     "metadata": {},
     "output_type": "execute_result"
    }
   ],
   "source": [
    "b= np.arange(24).reshape(4,2,3)\n",
    "b"
   ]
  },
  {
   "cell_type": "code",
   "execution_count": null,
   "id": "92459ba1-abe3-4111-9753-48d2d9ecd41e",
   "metadata": {},
   "outputs": [],
   "source": [
    "(2,4) 2행4열 y x / \n",
    "(2,3,4) zyx "
   ]
  },
  {
   "cell_type": "code",
   "execution_count": 58,
   "id": "5a8ed572-d37c-49f1-a915-e7f404fbfe06",
   "metadata": {},
   "outputs": [
    {
     "data": {
      "text/plain": [
       "array([[[ 0,  1],\n",
       "        [ 2,  3],\n",
       "        [ 4,  5],\n",
       "        [ 6,  7]],\n",
       "\n",
       "       [[ 8,  9],\n",
       "        [10, 11],\n",
       "        [12, 13],\n",
       "        [14, 15]],\n",
       "\n",
       "       [[16, 17],\n",
       "        [18, 19],\n",
       "        [20, 21],\n",
       "        [22, 23]]])"
      ]
     },
     "execution_count": 58,
     "metadata": {},
     "output_type": "execute_result"
    }
   ],
   "source": [
    "a"
   ]
  },
  {
   "cell_type": "code",
   "execution_count": 57,
   "id": "009c418b-97e3-4f7f-aa77-1cd185dd1f4d",
   "metadata": {},
   "outputs": [
    {
     "data": {
      "text/plain": [
       "array([[[ 0,  3],\n",
       "        [ 6,  9],\n",
       "        [12, 15],\n",
       "        [18, 21]],\n",
       "\n",
       "       [[24, 27],\n",
       "        [30, 33],\n",
       "        [36, 39],\n",
       "        [42, 45]],\n",
       "\n",
       "       [[48, 51],\n",
       "        [54, 57],\n",
       "        [60, 63],\n",
       "        [66, 69]]])"
      ]
     },
     "execution_count": 57,
     "metadata": {},
     "output_type": "execute_result"
    }
   ],
   "source": [
    "a*3 # 3을 곱하게 됨 "
   ]
  },
  {
   "cell_type": "code",
   "execution_count": null,
   "id": "f7021e6e-b062-4046-9492-b8f983faa34b",
   "metadata": {},
   "outputs": [],
   "source": [
    "a = np.array([])"
   ]
  },
  {
   "cell_type": "code",
   "execution_count": null,
   "id": "ad6a8209-33e8-40f4-8123-e72eaa8ec998",
   "metadata": {},
   "outputs": [],
   "source": [
    "type(a)"
   ]
  },
  {
   "cell_type": "code",
   "execution_count": 12,
   "id": "9db0205b-307f-4ef6-9f4f-516d34b0f4c1",
   "metadata": {},
   "outputs": [],
   "source": [
    "a = [1,2,3,4]\n",
    "b = [5,6,7,8]"
   ]
  },
  {
   "cell_type": "code",
   "execution_count": 13,
   "id": "a6e0af64-b253-4d84-9c54-72a6ab41a08b",
   "metadata": {},
   "outputs": [
    {
     "data": {
      "text/plain": [
       "[1, 2, 3, 4, 5, 6, 7, 8]"
      ]
     },
     "execution_count": 13,
     "metadata": {},
     "output_type": "execute_result"
    }
   ],
   "source": [
    "a+b # 리스트 "
   ]
  },
  {
   "cell_type": "code",
   "execution_count": 14,
   "id": "40f489cd-c355-4666-bd3b-759897e55ed8",
   "metadata": {},
   "outputs": [
    {
     "data": {
      "text/plain": [
       "array([ 6,  8, 10, 12])"
      ]
     },
     "execution_count": 14,
     "metadata": {},
     "output_type": "execute_result"
    }
   ],
   "source": [
    "np.add(a,b) # 이게 객체 지향의 방식이다. 객체의 객채 안에 함수를 보는 것 "
   ]
  },
  {
   "cell_type": "code",
   "execution_count": 65,
   "id": "f4e0b9f8-a4be-46bd-8f24-9fa19708dbee",
   "metadata": {},
   "outputs": [],
   "source": [
    "c = np.array([10,20])"
   ]
  },
  {
   "cell_type": "code",
   "execution_count": 66,
   "id": "45c29b59-90fb-4f31-9779-d130f4551fd3",
   "metadata": {},
   "outputs": [
    {
     "ename": "ValueError",
     "evalue": "operands could not be broadcast together with shapes (4,) (2,) ",
     "output_type": "error",
     "traceback": [
      "\u001b[1;31m---------------------------------------------------------------------------\u001b[0m",
      "\u001b[1;31mValueError\u001b[0m                                Traceback (most recent call last)",
      "\u001b[1;32m~\\AppData\\Local\\Temp/ipykernel_15248/1632842072.py\u001b[0m in \u001b[0;36m<module>\u001b[1;34m\u001b[0m\n\u001b[1;32m----> 1\u001b[1;33m \u001b[0ma\u001b[0m\u001b[1;33m+\u001b[0m\u001b[0mc\u001b[0m  \u001b[1;31m# 한개와 내개 같이 하면 바로 복제해서 더한다.\u001b[0m\u001b[1;33m\u001b[0m\u001b[1;33m\u001b[0m\u001b[0m\n\u001b[0m",
      "\u001b[1;31mValueError\u001b[0m: operands could not be broadcast together with shapes (4,) (2,) "
     ]
    }
   ],
   "source": [
    "a+c  # 한개와 내개 같이 하면 바로 복제해서 더한다.  브로드 캐스팅이라고 한다.  # 2개 수는 안되네 ?"
   ]
  },
  {
   "cell_type": "code",
   "execution_count": null,
   "id": "a687ac58-7647-45a5-95ed-ba90af6ec60a",
   "metadata": {},
   "outputs": [],
   "source": [
    "np.arange()"
   ]
  },
  {
   "cell_type": "code",
   "execution_count": null,
   "id": "3211df70-3ef6-4e97-9396-65ea3cb1628d",
   "metadata": {},
   "outputs": [],
   "source": [
    "b = np.arange(3,dtype = np.float16)"
   ]
  },
  {
   "cell_type": "code",
   "execution_count": null,
   "id": "ec93967c-a8b3-4e4f-93ac-92cdb5183f08",
   "metadata": {},
   "outputs": [],
   "source": [
    "import numpy as np\n",
    "a = np.arange(1,5).reshape(2,2)\n",
    "a"
   ]
  },
  {
   "cell_type": "code",
   "execution_count": 18,
   "id": "1724c5e0-3d2c-485b-a7e3-85f65e36128c",
   "metadata": {},
   "outputs": [
    {
     "data": {
      "text/plain": [
       "array([[19, 22],\n",
       "       [43, 50]])"
      ]
     },
     "execution_count": 18,
     "metadata": {},
     "output_type": "execute_result"
    }
   ],
   "source": [
    "arr1 = np.arange(1,5).reshape(2,2)\n",
    "arr2= np.arange(5,9).reshape(2,2)\n",
    "arr1 + arr2\n",
    "arr1 * arr2 \n",
    "# 행렬의 곱셈 \n",
    "np.matmul(arr1,arr2)"
   ]
  },
  {
   "cell_type": "code",
   "execution_count": 20,
   "id": "1d6273e6-f3ed-472a-9acc-80df010f8069",
   "metadata": {},
   "outputs": [
    {
     "data": {
      "text/plain": [
       "array([[19, 22],\n",
       "       [43, 50]])"
      ]
     },
     "execution_count": 20,
     "metadata": {},
     "output_type": "execute_result"
    }
   ],
   "source": [
    "np.matmul(arr1,arr2)\n",
    "arr1@arr2 \n",
    "np.dot(arr1,arr2) # 행렬곱 \n"
   ]
  },
  {
   "cell_type": "code",
   "execution_count": null,
   "id": "52961e7f-06b0-4323-b648-61d3b806421a",
   "metadata": {},
   "outputs": [],
   "source": [
    "np.arange(36).reshape(3,4,3)\n",
    "a = np. arange(9,dtype = np.float32)\n",
    "np.linspace(0,1,5)  #등분하기 4등분 \n",
    "np.linspace(0,1,5, endpoint = False)\n",
    "np.ones((3,3), int) #1로 채우기 \n",
    "b = np.zeros((3,3), int) #0으로 가득\n",
    "b[2,0] = 3\n",
    "b # sparse matrix 희귀 행렬"
   ]
  },
  {
   "cell_type": "code",
   "execution_count": 22,
   "id": "2138998a-5f3d-425e-85e8-bf6ed8c86511",
   "metadata": {},
   "outputs": [
    {
     "data": {
      "text/plain": [
       "array([[8., 8., 8.],\n",
       "       [8., 8., 8.],\n",
       "       [8., 8., 8.]])"
      ]
     },
     "execution_count": 22,
     "metadata": {},
     "output_type": "execute_result"
    }
   ],
   "source": [
    "np.diag([1,2,3]) # 대각선에 1 , 2, 3 \n",
    "np.ones((3,3))*8 #숫자곱하기"
   ]
  },
  {
   "cell_type": "code",
   "execution_count": null,
   "id": "ca506ed9-57f5-4419-9435-8b5eac2454db",
   "metadata": {},
   "outputs": [],
   "source": [
    "c = np. arange(9).reshape(3,3)\n",
    "np.diag([1,2,3])\n",
    "np.diag(c)\n",
    "np.diag([1,1])\n",
    "np.identity(2) # 단위행렬 , \n",
    "np.eye(2) # 같은 것\n",
    "np.eye(3,4) # 3행 4열에서 한다 eye만 가능한 것이 잇다. \n",
    "np.tile(c,2) # repeat a 2 times\n",
    "#3행 = 뒤에 것의 3뭉치\n",
    "np.tile(c,(3,2)) #3행 두번 \n",
    "np.full((3,3), 8) # 3행 3열 8로 가득 채운다 \n",
    "np.full((4,3), 2)\n",
    "np.empty((2,3))"
   ]
  },
  {
   "cell_type": "code",
   "execution_count": null,
   "id": "bcf65e23-bbed-45bd-b630-42dfcb0c4913",
   "metadata": {},
   "outputs": [],
   "source": [
    "a = np.arange(6).reshape(2,3)\n",
    "a\n",
    "np.zeros_like(a) #껍데기는 그대로 유지한체 0으로 \n",
    "b = np.arange(3,dtype = np.float16)\n",
    "np.ones_like(b) # 데이터를 유지한 상태 \n",
    "\n",
    "b[3] = 0 \n",
    "b\n",
    "c = a \n",
    "c[3] = 0 \n",
    "c\n",
    "a # C를 바꾼 이후에 ,, a 도 바뀜 \n",
    "\n",
    "b = a[2: 4]\n",
    "b[0] = 0\n",
    "b\n",
    "a # 바뀐다. B 는 새로 만들어 진것이 아니라 a 에 지칭을 한것 뿐 \n",
    "# 카피 , 같은 객채다 . \n",
    "d = np.arange(1,9,2) # 1부터 9 2 간격 \n",
    "d.shape"
   ]
  },
  {
   "cell_type": "code",
   "execution_count": null,
   "id": "d3592467-446c-474d-bdb3-7f1e62612260",
   "metadata": {},
   "outputs": [],
   "source": [
    "np.arange(1,5)\n",
    "\n",
    "\n",
    "/h 수평 v 수직 , \n",
    "a= np.arange(5)\n",
    "\n",
    "np.vstack(a,a*10)\n",
    "np.vstack(a,a*10,a*20,a-10)\n",
    "\n",
    "a= np.arange(5)\n",
    "\n",
    "np.hstack(a,a*10)\n",
    "np.hstack(a,a*10,a*20,a-10)\n",
    "\n",
    "np.dstack(a,a*10)\n",
    "np.dstack(a,a*10,a*20,a-10)\n",
    "\n",
    "\n",
    "a = np.array([1,2,3])\n",
    "b = np.array([4,5,6])\n",
    "np.vstack([a,b])\n",
    "np.hstack([a,b])\n",
    "np.dstack([a,b])"
   ]
  },
  {
   "cell_type": "code",
   "execution_count": null,
   "id": "2f96c94c-c961-4373-a8cd-6bb5f0a700a4",
   "metadata": {},
   "outputs": [],
   "source": [
    "a = np.arange(1,25).reshape((4,6))\n",
    "a\n",
    "A = np.vsplit(a,2) #두조각으로 \n",
    "\n",
    "type(A)\n",
    "np.array(np.vsplit(a,2)).shape\n",
    "\n",
    "np.vsplit(a,3)   # 토막내줌 "
   ]
  },
  {
   "cell_type": "code",
   "execution_count": null,
   "id": "9659b98b-569f-4bbb-8a47-cc360aee96c1",
   "metadata": {},
   "outputs": [],
   "source": [
    "a.reshape(2,-1) # -1  자동으로 라는 뜻 \n",
    "a.flatten().shape\n",
    "\n",
    "\n",
    "#ravel()\n",
    "b= a.ravel() # copy는 새로운 것 view는 기존것 \n",
    "b[0] = 100#는"
   ]
  },
  {
   "cell_type": "code",
   "execution_count": null,
   "id": "96c8230e-9cac-4010-8b8e-14297d583feb",
   "metadata": {},
   "outputs": [],
   "source": [
    "a = np.arange(24).reshape(3,8)\n",
    "a@ a.T \n",
    "\n",
    "flatten 카피\n",
    "ravel view \n",
    "a.T  # 전치 행렬 "
   ]
  },
  {
   "cell_type": "code",
   "execution_count": null,
   "id": "12578de6-3c70-440f-8d61-c8ae5326d1ea",
   "metadata": {},
   "outputs": [],
   "source": [
    "A = np.array([2,1,4,3])\n",
    "np.sort(A)\n",
    "A\n",
    "B = np.sort(A)"
   ]
  },
  {
   "cell_type": "code",
   "execution_count": null,
   "id": "7b91ea1a-6a47-4217-b9ea-3a1182d5d26f",
   "metadata": {},
   "outputs": [
    {
     "ename": "TypeError",
     "evalue": "_vhstack_dispatcher() takes 1 positional argument but 2 were given",
     "output_type": "error",
     "traceback": [
      "\u001b[1;31m---------------------------------------------------------------------------\u001b[0m",
      "\u001b[1;31mTypeError\u001b[0m                                 Traceback (most recent call last)",
      "\u001b[1;32m~\\AppData\\Local\\Temp/ipykernel_15248/2359728815.py\u001b[0m in \u001b[0;36m<module>\u001b[1;34m\u001b[0m\n\u001b[0;32m      1\u001b[0m \u001b[0ma\u001b[0m\u001b[1;33m=\u001b[0m \u001b[0mnp\u001b[0m\u001b[1;33m.\u001b[0m\u001b[0marange\u001b[0m\u001b[1;33m(\u001b[0m\u001b[1;36m5\u001b[0m\u001b[1;33m)\u001b[0m\u001b[1;33m\u001b[0m\u001b[1;33m\u001b[0m\u001b[0m\n\u001b[0;32m      2\u001b[0m \u001b[1;33m\u001b[0m\u001b[0m\n\u001b[1;32m----> 3\u001b[1;33m \u001b[0mnp\u001b[0m\u001b[1;33m.\u001b[0m\u001b[0mvstack\u001b[0m\u001b[1;33m(\u001b[0m\u001b[0ma\u001b[0m\u001b[1;33m,\u001b[0m\u001b[0ma\u001b[0m\u001b[1;33m*\u001b[0m\u001b[1;36m10\u001b[0m\u001b[1;33m)\u001b[0m\u001b[1;33m\u001b[0m\u001b[1;33m\u001b[0m\u001b[0m\n\u001b[0m\u001b[0;32m      4\u001b[0m \u001b[0mnp\u001b[0m\u001b[1;33m.\u001b[0m\u001b[0mvstack\u001b[0m\u001b[1;33m(\u001b[0m\u001b[0ma\u001b[0m\u001b[1;33m,\u001b[0m\u001b[0ma\u001b[0m\u001b[1;33m*\u001b[0m\u001b[1;36m10\u001b[0m\u001b[1;33m,\u001b[0m\u001b[0ma\u001b[0m\u001b[1;33m*\u001b[0m\u001b[1;36m20\u001b[0m\u001b[1;33m,\u001b[0m\u001b[0ma\u001b[0m\u001b[1;33m-\u001b[0m\u001b[1;36m10\u001b[0m\u001b[1;33m)\u001b[0m\u001b[1;33m\u001b[0m\u001b[1;33m\u001b[0m\u001b[0m\n",
      "\u001b[1;32m<__array_function__ internals>\u001b[0m in \u001b[0;36mvstack\u001b[1;34m(*args, **kwargs)\u001b[0m\n",
      "\u001b[1;31mTypeError\u001b[0m: _vhstack_dispatcher() takes 1 positional argument but 2 were given"
     ]
    }
   ],
   "source": [
    "a= [ 2,1,4,3]\n",
    "np.sort(a)\n",
    "a\n",
    "\n",
    "axis = 0 은 아레로 방향 행별로 행방향  \n",
    "axis = 1 x  방향  열방향 "
   ]
  },
  {
   "cell_type": "code",
   "execution_count": null,
   "id": "326530f6-9a9e-4ed6-b886-5e8ac5671961",
   "metadata": {},
   "outputs": [],
   "source": [
    "import numpy as np\n",
    "\n",
    "np.arange\n",
    "np.arange"
   ]
  },
  {
   "cell_type": "code",
   "execution_count": null,
   "id": "38b34c0a-5d99-4f69-9ef8-967c14e60e18",
   "metadata": {},
   "outputs": [],
   "source": [
    "0~36개 모두 개수가 int \n",
    "36 8비트 = 1 바이트 / 인트 8 8비트씩을 저장단위로 삼아라 \n",
    "내장함수는 sorted "
   ]
  },
  {
   "cell_type": "code",
   "execution_count": null,
   "id": "7e76b798-9e19-4248-8568-d7faf8de7295",
   "metadata": {},
   "outputs": [],
   "source": [
    "np.arange(9).reshape(3,3,3).full(10)\n",
    "np.ones((3,3,3))\n",
    "배열 : *, np.multiply\n",
    "행렬 : @, np.dot\n",
    "객체 솔트는 뷰 넘파이 솔트는 카피 \n",
    "np.arange(24).reshape(3,-1)\n",
    "a[:,2] :은 처음부터 \n",
    ":: 은 스탭 "
   ]
  },
  {
   "cell_type": "code",
   "execution_count": null,
   "id": "57c38036-a081-45b1-ac61-1448e7eb78d7",
   "metadata": {},
   "outputs": [],
   "source": [
    "a = np.arange(25).reshape(5,5)\n",
    "\n",
    "a[:,1::2]\n",
    "a[4,:]\n",
    "a[-1]\n",
    "a[1::2,:3:2]\n",
    "\n",
    "# 0:3:2]  : ~ 0 부터 ,3 *까지 *2 간격으로 \n",
    "# 괄호 다시보기 묶어주는 이유 . 01두개 "
   ]
  },
  {
   "cell_type": "code",
   "execution_count": null,
   "id": "8bd40242-d558-44d6-a7ea-3856421804c7",
   "metadata": {},
   "outputs": [],
   "source": [
    "a = np.arange(0,80,10)\n",
    "a\n",
    "a[0]\n",
    "a[ [0,1,3,5] ]\n",
    "\n",
    "indices = [0,1,3,5]\n",
    "a[indices]\n",
    "a[indices] = 9 "
   ]
  },
  {
   "cell_type": "code",
   "execution_count": null,
   "id": "2c7b55d7-f9fd-49dc-ad22-8941ba5a0831",
   "metadata": {},
   "outputs": [],
   "source": [
    "a = np.arange(36).reshape(6,6)\n",
    "a\n",
    "a [ [1,2]]\n",
    "a[indices]\n",
    "# 행이 출력 "
   ]
  },
  {
   "cell_type": "code",
   "execution_count": null,
   "id": "7522bac6-da35-471a-85e3-5b89739fc244",
   "metadata": {},
   "outputs": [],
   "source": [
    "a[indices,indices]\n",
    "a[:,indices]"
   ]
  },
  {
   "cell_type": "code",
   "execution_count": null,
   "id": "11c5b1df-709a-462d-952b-585f54f0342a",
   "metadata": {},
   "outputs": [],
   "source": [
    "a[[0,1,2,2],[1,2,0,3]]\n",
    "# and or 작동 검색할때 사용 \n",
    "a = np.arange(0,80,10)\n",
    "a [ a >40 ]\n",
    "a [mask ]"
   ]
  },
  {
   "cell_type": "code",
   "execution_count": null,
   "id": "2ba58de2-fc03-4c66-a755-f1518ff6e1b3",
   "metadata": {},
   "outputs": [],
   "source": [
    "mask = (a > 40) | (a <30)\n",
    "행은 20ㅂh다 크고 열은 14qㅗ다 작거나 크다. \n",
    "\n",
    "mask = [(a > 20 ) , (a>26)| (a<14)]\n",
    "\n",
    "a = np.arange(25).reshape(5,5)\n",
    "a[[0,1,2,3],[1,2,3,4]]\n",
    "a[0:3,1:4]"
   ]
  },
  {
   "cell_type": "code",
   "execution_count": null,
   "id": "ef41f161-474d-40c5-8558-9d59e0453ddb",
   "metadata": {},
   "outputs": [],
   "source": [
    "for i in range(0,4):\n",
    "    print(a[i,i+1])\n",
    "indices = [0,1,2,3]\n",
    "a[indices, indices]+1\n",
    "\n",
    "#방법2\n",
    "mask_row=np.array([1,1,1,1,0], dtype=bool)\n",
    "mask_col=np.array([0,1,1,1,1], dtype=bool)\n",
    "a[mask_row, mask_col]\n",
    "# 불 사용 트루만 출력"
   ]
  },
  {
   "cell_type": "code",
   "execution_count": null,
   "id": "baa7535c-4eba-43ac-9787-71f96fd70ddf",
   "metadata": {},
   "outputs": [],
   "source": [
    "a = np.array([1,2,3])\n",
    "a+1 #  브로드 캐스팅 \n",
    "b = np.array([1])\n",
    "a+ b"
   ]
  },
  {
   "cell_type": "code",
   "execution_count": null,
   "id": "6a465dfa-bbd3-4f42-8fda-4cfc55fb838b",
   "metadata": {},
   "outputs": [],
   "source": [
    "a = np.array([[1,2,3],[4,5,6]])\n",
    "\n",
    "np.sum(a)\n",
    "\n",
    "np.sum(a,axis = 0 ) # 행방향\n",
    "np.sum(a,axis = 1 ) #축이 0이 되도록 합치거라  # 열방향\n",
    "b = np.array([[4,5,6],[1,2,3]])\n",
    "\n",
    "np.min(a)\n",
    "np.min(a, axis = 0)\n",
    "np.min(a, axis = 1)\n",
    "\n",
    "np.minimum(a,b) # 리스트가 나오네 "
   ]
  },
  {
   "cell_type": "code",
   "execution_count": null,
   "id": "178a09c2-10df-42d0-ad76-cdb82ac1102f",
   "metadata": {},
   "outputs": [],
   "source": [
    "a\n",
    "a>4\n",
    "\n",
    "a[a>4]\n",
    "np.where(a>4,\"H\",\"h\")  # if 와 같이 많이 씀 조건 결과 tf \n",
    "\n",
    "a = np.arange(-15,15).reshape(5,6)**2\n",
    "\n",
    "np.max(a,axis=1)\n",
    "np.mean(a,axis=0)"
   ]
  },
  {
   "cell_type": "code",
   "execution_count": null,
   "id": "f48da06f-cec6-43b0-b340-0a8583a7ea27",
   "metadata": {},
   "outputs": [],
   "source": []
  },
  {
   "cell_type": "code",
   "execution_count": null,
   "id": "e57338e1-1acf-422e-be34-a417bad4d226",
   "metadata": {},
   "outputs": [],
   "source": [
    "64비트 = 8바이트 0해도 8바이트  \n",
    "총 24바이트 / 숫자 3개가 \n",
    "8바이트 9개 "
   ]
  }
 ],
 "metadata": {
  "kernelspec": {
   "display_name": "Python 3 (ipykernel)",
   "language": "python",
   "name": "python3"
  },
  "language_info": {
   "codemirror_mode": {
    "name": "ipython",
    "version": 3
   },
   "file_extension": ".py",
   "mimetype": "text/x-python",
   "name": "python",
   "nbconvert_exporter": "python",
   "pygments_lexer": "ipython3",
   "version": "3.9.7"
  }
 },
 "nbformat": 4,
 "nbformat_minor": 5
}
